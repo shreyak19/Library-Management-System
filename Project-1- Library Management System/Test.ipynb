{
 "cells": [
  {
   "cell_type": "code",
   "execution_count": 1,
   "metadata": {},
   "outputs": [],
   "source": [
    "from Book import Book\n",
    "from Catalog import Catalog\n",
    "from User import Member, Librarian\n"
   ]
  },
  {
   "cell_type": "code",
   "execution_count": 2,
   "metadata": {},
   "outputs": [],
   "source": [
    "librarian = Librarian(\"Awantik\",\"Banglore\",34,\"qwrrwer\",\"7584\")"
   ]
  },
  {
   "cell_type": "code",
   "execution_count": 3,
   "metadata": {},
   "outputs": [
    {
     "data": {
      "text/plain": [
       "'Awantik  Banglore  7584'"
      ]
     },
     "execution_count": 3,
     "metadata": {},
     "output_type": "execute_result"
    }
   ],
   "source": [
    "librarian.__repr__()"
   ]
  },
  {
   "cell_type": "code",
   "execution_count": 3,
   "metadata": {},
   "outputs": [],
   "source": [
    "m1 = Member(\"vishesh\",\"Banglore\",20,\"hshdfdsj\",\"1234\")"
   ]
  },
  {
   "cell_type": "code",
   "execution_count": 4,
   "metadata": {},
   "outputs": [
    {
     "data": {
      "text/plain": [
       "'vishesh Banglore 1234'"
      ]
     },
     "execution_count": 4,
     "metadata": {},
     "output_type": "execute_result"
    }
   ],
   "source": [
    "m1.__repr__()"
   ]
  },
  {
   "cell_type": "code",
   "execution_count": 5,
   "metadata": {},
   "outputs": [],
   "source": [
    "b = librarian.addBook(\"The Ultimate Gift\",\"Jim Stoval\",12,\"2020-12-07\",200)"
   ]
  },
  {
   "cell_type": "code",
   "execution_count": 6,
   "metadata": {},
   "outputs": [],
   "source": [
    "librarian.addBookItem(b,\"H123\")\n",
    "librarian.addBookItem(b,\"H128\")\n",
    "librarian.addBookItem(b,\"H129\")"
   ]
  },
  {
   "cell_type": "code",
   "execution_count": 7,
   "metadata": {},
   "outputs": [
    {
     "data": {
      "text/plain": [
       "[The Ultimate Gift Jim Stoval]"
      ]
     },
     "execution_count": 7,
     "metadata": {},
     "output_type": "execute_result"
    }
   ],
   "source": [
    "librarian.Catalog.books"
   ]
  },
  {
   "cell_type": "code",
   "execution_count": 8,
   "metadata": {},
   "outputs": [
    {
     "name": "stdout",
     "output_type": "stream",
     "text": [
      "Different Book Count 1\n",
      "The Ultimate Gift Jim Stoval\n",
      "H123\n",
      "H128\n",
      "H129\n",
      "Total Book Count 3\n"
     ]
    }
   ],
   "source": [
    "librarian.Catalog.displayAllBooks()"
   ]
  },
  {
   "cell_type": "code",
   "execution_count": 9,
   "metadata": {},
   "outputs": [],
   "source": [
    "b2 = librarian.addBook(\"The Secret\",\"qwe\",34,\"2020-08-14\",350)"
   ]
  },
  {
   "cell_type": "code",
   "execution_count": 10,
   "metadata": {},
   "outputs": [],
   "source": [
    "librarian.addBookItem(b2,\"A123\")\n",
    "librarian.addBookItem(b2,\"A56\")\n",
    "librarian.addBookItem(b2,\"A134\")"
   ]
  },
  {
   "cell_type": "code",
   "execution_count": 11,
   "metadata": {},
   "outputs": [
    {
     "data": {
      "text/plain": [
       "[The Ultimate Gift Jim Stoval, The Secret qwe]"
      ]
     },
     "execution_count": 11,
     "metadata": {},
     "output_type": "execute_result"
    }
   ],
   "source": [
    "librarian.Catalog.books"
   ]
  },
  {
   "cell_type": "code",
   "execution_count": 12,
   "metadata": {},
   "outputs": [
    {
     "name": "stdout",
     "output_type": "stream",
     "text": [
      "Different Book Count 2\n",
      "The Ultimate Gift Jim Stoval\n",
      "H123\n",
      "H128\n",
      "H129\n",
      "The Secret qwe\n",
      "A123\n",
      "A56\n",
      "A134\n",
      "Total Book Count 6\n"
     ]
    }
   ],
   "source": [
    "librarian.Catalog.displayAllBooks()"
   ]
  },
  {
   "cell_type": "code",
   "execution_count": 13,
   "metadata": {},
   "outputs": [],
   "source": [
    "m1.issueBook(\"The Secret\")"
   ]
  },
  {
   "cell_type": "code",
   "execution_count": 14,
   "metadata": {},
   "outputs": [
    {
     "name": "stdout",
     "output_type": "stream",
     "text": [
      "Different Book Count 2\n",
      "The Ultimate Gift Jim Stoval\n",
      "H123\n",
      "H128\n",
      "H129\n",
      "The Secret qwe\n",
      "A123\n",
      "A56\n",
      "Total Book Count 5\n"
     ]
    }
   ],
   "source": [
    "librarian.Catalog.displayAllBooks()"
   ]
  },
  {
   "cell_type": "code",
   "execution_count": 15,
   "metadata": {},
   "outputs": [],
   "source": [
    "m1.returnBook(\"The Secret\")"
   ]
  },
  {
   "cell_type": "code",
   "execution_count": 16,
   "metadata": {},
   "outputs": [
    {
     "name": "stdout",
     "output_type": "stream",
     "text": [
      "Different Book Count 2\n",
      "The Ultimate Gift Jim Stoval\n",
      "H123\n",
      "H128\n",
      "H129\n",
      "The Secret qwe\n",
      "A123\n",
      "A56\n",
      "A134\n",
      "Total Book Count 6\n"
     ]
    }
   ],
   "source": [
    "librarian.Catalog.displayAllBooks()"
   ]
  },
  {
   "cell_type": "code",
   "execution_count": 17,
   "metadata": {},
   "outputs": [
    {
     "data": {
      "text/plain": [
       "[The Ultimate Gift Jim Stoval, The Secret qwe]"
      ]
     },
     "execution_count": 17,
     "metadata": {},
     "output_type": "execute_result"
    }
   ],
   "source": [
    "m1.Catalog.books"
   ]
  },
  {
   "cell_type": "code",
   "execution_count": 18,
   "metadata": {},
   "outputs": [
    {
     "name": "stdout",
     "output_type": "stream",
     "text": [
      "Different Book Count 2\n",
      "The Ultimate Gift Jim Stoval\n",
      "H123\n",
      "H128\n",
      "H129\n",
      "The Secret qwe\n",
      "A123\n",
      "A56\n",
      "A134\n",
      "Total Book Count 6\n"
     ]
    }
   ],
   "source": [
    "m1.Catalog.displayAllBooks()"
   ]
  },
  {
   "cell_type": "code",
   "execution_count": 19,
   "metadata": {},
   "outputs": [],
   "source": [
    "librarian.removeBook(\"The Secret\")"
   ]
  },
  {
   "cell_type": "code",
   "execution_count": 20,
   "metadata": {},
   "outputs": [
    {
     "name": "stdout",
     "output_type": "stream",
     "text": [
      "Different Book Count 1\n",
      "The Ultimate Gift Jim Stoval\n",
      "H123\n",
      "H128\n",
      "H129\n",
      "Total Book Count 3\n"
     ]
    }
   ],
   "source": [
    "librarian.Catalog.displayAllBooks()"
   ]
  },
  {
   "cell_type": "code",
   "execution_count": null,
   "metadata": {},
   "outputs": [],
   "source": []
  }
 ],
 "metadata": {
  "kernelspec": {
   "display_name": "Python 3",
   "language": "python",
   "name": "python3"
  },
  "language_info": {
   "codemirror_mode": {
    "name": "ipython",
    "version": 3
   },
   "file_extension": ".py",
   "mimetype": "text/x-python",
   "name": "python",
   "nbconvert_exporter": "python",
   "pygments_lexer": "ipython3",
   "version": "3.7.0"
  }
 },
 "nbformat": 4,
 "nbformat_minor": 4
}
